{
  "nbformat": 4,
  "nbformat_minor": 0,
  "metadata": {
    "colab": {
      "provenance": [],
      "authorship_tag": "ABX9TyNvVaMN6DVisJFWxe0J8g7z",
      "include_colab_link": true
    },
    "kernelspec": {
      "name": "python3",
      "display_name": "Python 3"
    },
    "language_info": {
      "name": "python"
    }
  },
  "cells": [
    {
      "cell_type": "markdown",
      "metadata": {
        "id": "view-in-github",
        "colab_type": "text"
      },
      "source": [
        "<a href=\"https://colab.research.google.com/github/TTeja-droid/CODSOFT/blob/main/Untitled10.ipynb\" target=\"_parent\"><img src=\"https://colab.research.google.com/assets/colab-badge.svg\" alt=\"Open In Colab\"/></a>"
      ]
    },
    {
      "cell_type": "code",
      "execution_count": null,
      "metadata": {
        "id": "_KiveDC-J6qt"
      },
      "outputs": [],
      "source": [
        "import java.util.Random;\n",
        "import java.util.Scanner;\n",
        "\n",
        "public class NumberGuessingGame {\n",
        "    public static void main(String[] args) {\n",
        "        Scanner scanner = new Scanner(System.in);\n",
        "        Random random = new Random();\n",
        "\n",
        "        int rounds = 0;\n",
        "        int totalAttempts = 0;\n",
        "\n",
        "        boolean playAgain = true;\n",
        "\n",
        "        System.out.println(\"Welcome to the Number Guessing Game!\");\n",
        "\n",
        "        while (playAgain) {\n",
        "            int numberToGuess = random.nextInt(10) + 1;\n",
        "            int attempts = 0;\n",
        "            int maxAttempts = 10;\n",
        "            boolean guessedCorrectly = false;\n",
        "\n",
        "            System.out.println(\"\\nI've generated a number between 1 and 10. Can you guess what it is?\");\n",
        "\n",
        "            while (attempts < maxAttempts) {\n",
        "                System.out.print(\"Attempt \" + (attempts + 1) + \"/\" + maxAttempts + \": Enter your guess: \");\n",
        "                int guess = scanner.nextInt();\n",
        "                attempts++;\n",
        "\n",
        "                if (guess < numberToGuess) {\n",
        "                    System.out.println(\"Too low!\");\n",
        "                } else if (guess > numberToGuess) {\n",
        "                    System.out.println(\"Too high!\");\n",
        "                } else {\n",
        "                    System.out.println(\"Congratulations! You guessed the number.\");\n",
        "                    guessedCorrectly = true;\n",
        "                    break;\n",
        "                }\n",
        "            }\n",
        "\n",
        "            if (!guessedCorrectly) {\n",
        "                System.out.println(\"Sorry, you've used all \" + maxAttempts + \" attempts. The number was \" + numberToGuess + \".\");\n",
        "            }\n",
        "\n",
        "            rounds++;\n",
        "            totalAttempts += attempts;\n",
        "\n",
        "            System.out.print(\"Do you want to play another round? (yes/no): \");\n",
        "            scanner.nextLine(); // consume the newline character\n",
        "            String playAgainInput = scanner.nextLine().trim().toLowerCase();\n",
        "            playAgain = playAgainInput.equals(\"yes\");\n",
        "        }\n",
        "\n",
        "        System.out.println(\"\\nGame Over!\");\n",
        "        System.out.println(\"You played \" + rounds + \" rounds with a total of \" + totalAttempts + \" attempts.\");\n",
        "        double averageAttempts = rounds > 0 ? (double) totalAttempts / rounds : 0;\n",
        "        System.out.println(\"Your average number of attempts per round was \" + String.format(\"%.2f\", averageAttempts) + \".\");\n",
        "        System.out.println(\"Thanks for playing!\");\n",
        "\n",
        "        scanner.close();\n",
        "    }\n",
        "}"
      ]
    }
  ]
}